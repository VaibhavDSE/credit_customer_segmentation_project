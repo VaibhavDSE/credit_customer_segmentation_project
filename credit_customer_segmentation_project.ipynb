{
  "metadata": {
    "kernelspec": {
      "name": "python",
      "display_name": "Python (Pyodide)",
      "language": "python"
    },
    "language_info": {
      "codemirror_mode": {
        "name": "python",
        "version": 3
      },
      "file_extension": ".py",
      "mimetype": "text/x-python",
      "name": "python",
      "nbconvert_exporter": "python",
      "pygments_lexer": "ipython3",
      "version": "3.8"
    }
  },
  "nbformat_minor": 5,
  "nbformat": 4,
  "cells": [
    {
      "id": "8730904b-8933-4232-8152-3ed3592e4978",
      "cell_type": "code",
      "source": "import pandas as pd ",
      "metadata": {
        "trusted": true
      },
      "outputs": [],
      "execution_count": 1
    },
    {
      "id": "7713448c-d6f1-48d6-9235-614a1f6adbed",
      "cell_type": "code",
      "source": "df= pd.read_csv('seg.csv')",
      "metadata": {
        "trusted": true
      },
      "outputs": [],
      "execution_count": 2
    },
    {
      "id": "1300c6e0-589d-45df-82f4-9b55e21b9e35",
      "cell_type": "code",
      "source": "df",
      "metadata": {
        "trusted": true
      },
      "outputs": [
        {
          "execution_count": 3,
          "output_type": "execute_result",
          "data": {
            "text/plain": "       TransactionID CustomerID CustomerDOB CustGender  CustLocation  \\\n0                 T1   C5841053  10-01-1994          F    JAMSHEDPUR   \n1                 T2   C2142763  04-04-1957          M       JHAJJAR   \n2                 T3   C4417068  26-11-1996          F        MUMBAI   \n3                 T4   C5342380  14-09-1973          F        MUMBAI   \n4                 T5   C9031234  24-03-1988          F   NAVI MUMBAI   \n...              ...        ...         ...        ...           ...   \n875570       T875571   C2131177  03-09-1997          M        ROHTAK   \n875571       T875572   C1019311  26-02-1991          M  SECUNDERABAD   \n875572       T875573   C4413592  13-07-1992          M   NAVI MUMBAI   \n875573       T875574   C4813976  10-07-1983          M       GURGAON   \n875574       T875575   C1935147  27-11-1996          M           NaN   \n\n        CustAccountBalance TransactionDate  TransactionTime  \\\n0                 17819.05      02-08-2016         143207.0   \n1                  2270.69      02-08-2016         141858.0   \n2                 17874.44      02-08-2016         142712.0   \n3                866503.21      02-08-2016         142714.0   \n4                  6714.43      02-08-2016         181156.0   \n...                    ...             ...              ...   \n875570               19.27      07-09-2016         222956.0   \n875571            24060.39      07-09-2016         223023.0   \n875572            16638.79      07-09-2016         223026.0   \n875573            51521.26      07-09-2016         223027.0   \n875574                 NaN             NaN              NaN   \n\n        TransactionAmount (INR)  \n0                          25.0  \n1                       27999.0  \n2                         459.0  \n3                        2060.0  \n4                        1762.5  \n...                         ...  \n875570                     74.0  \n875571                    688.0  \n875572                   2520.0  \n875573                    683.0  \n875574                      NaN  \n\n[875575 rows x 9 columns]",
            "text/html": "<div>\n<style scoped>\n    .dataframe tbody tr th:only-of-type {\n        vertical-align: middle;\n    }\n\n    .dataframe tbody tr th {\n        vertical-align: top;\n    }\n\n    .dataframe thead th {\n        text-align: right;\n    }\n</style>\n<table border=\"1\" class=\"dataframe\">\n  <thead>\n    <tr style=\"text-align: right;\">\n      <th></th>\n      <th>TransactionID</th>\n      <th>CustomerID</th>\n      <th>CustomerDOB</th>\n      <th>CustGender</th>\n      <th>CustLocation</th>\n      <th>CustAccountBalance</th>\n      <th>TransactionDate</th>\n      <th>TransactionTime</th>\n      <th>TransactionAmount (INR)</th>\n    </tr>\n  </thead>\n  <tbody>\n    <tr>\n      <th>0</th>\n      <td>T1</td>\n      <td>C5841053</td>\n      <td>10-01-1994</td>\n      <td>F</td>\n      <td>JAMSHEDPUR</td>\n      <td>17819.05</td>\n      <td>02-08-2016</td>\n      <td>143207.0</td>\n      <td>25.0</td>\n    </tr>\n    <tr>\n      <th>1</th>\n      <td>T2</td>\n      <td>C2142763</td>\n      <td>04-04-1957</td>\n      <td>M</td>\n      <td>JHAJJAR</td>\n      <td>2270.69</td>\n      <td>02-08-2016</td>\n      <td>141858.0</td>\n      <td>27999.0</td>\n    </tr>\n    <tr>\n      <th>2</th>\n      <td>T3</td>\n      <td>C4417068</td>\n      <td>26-11-1996</td>\n      <td>F</td>\n      <td>MUMBAI</td>\n      <td>17874.44</td>\n      <td>02-08-2016</td>\n      <td>142712.0</td>\n      <td>459.0</td>\n    </tr>\n    <tr>\n      <th>3</th>\n      <td>T4</td>\n      <td>C5342380</td>\n      <td>14-09-1973</td>\n      <td>F</td>\n      <td>MUMBAI</td>\n      <td>866503.21</td>\n      <td>02-08-2016</td>\n      <td>142714.0</td>\n      <td>2060.0</td>\n    </tr>\n    <tr>\n      <th>4</th>\n      <td>T5</td>\n      <td>C9031234</td>\n      <td>24-03-1988</td>\n      <td>F</td>\n      <td>NAVI MUMBAI</td>\n      <td>6714.43</td>\n      <td>02-08-2016</td>\n      <td>181156.0</td>\n      <td>1762.5</td>\n    </tr>\n    <tr>\n      <th>...</th>\n      <td>...</td>\n      <td>...</td>\n      <td>...</td>\n      <td>...</td>\n      <td>...</td>\n      <td>...</td>\n      <td>...</td>\n      <td>...</td>\n      <td>...</td>\n    </tr>\n    <tr>\n      <th>875570</th>\n      <td>T875571</td>\n      <td>C2131177</td>\n      <td>03-09-1997</td>\n      <td>M</td>\n      <td>ROHTAK</td>\n      <td>19.27</td>\n      <td>07-09-2016</td>\n      <td>222956.0</td>\n      <td>74.0</td>\n    </tr>\n    <tr>\n      <th>875571</th>\n      <td>T875572</td>\n      <td>C1019311</td>\n      <td>26-02-1991</td>\n      <td>M</td>\n      <td>SECUNDERABAD</td>\n      <td>24060.39</td>\n      <td>07-09-2016</td>\n      <td>223023.0</td>\n      <td>688.0</td>\n    </tr>\n    <tr>\n      <th>875572</th>\n      <td>T875573</td>\n      <td>C4413592</td>\n      <td>13-07-1992</td>\n      <td>M</td>\n      <td>NAVI MUMBAI</td>\n      <td>16638.79</td>\n      <td>07-09-2016</td>\n      <td>223026.0</td>\n      <td>2520.0</td>\n    </tr>\n    <tr>\n      <th>875573</th>\n      <td>T875574</td>\n      <td>C4813976</td>\n      <td>10-07-1983</td>\n      <td>M</td>\n      <td>GURGAON</td>\n      <td>51521.26</td>\n      <td>07-09-2016</td>\n      <td>223027.0</td>\n      <td>683.0</td>\n    </tr>\n    <tr>\n      <th>875574</th>\n      <td>T875575</td>\n      <td>C1935147</td>\n      <td>27-11-1996</td>\n      <td>M</td>\n      <td>NaN</td>\n      <td>NaN</td>\n      <td>NaN</td>\n      <td>NaN</td>\n      <td>NaN</td>\n    </tr>\n  </tbody>\n</table>\n<p>875575 rows × 9 columns</p>\n</div>"
          },
          "metadata": {}
        }
      ],
      "execution_count": 3
    },
    {
      "id": "229854d9-297a-4dc1-b14f-c072f139d2e4",
      "cell_type": "code",
      "source": "df.dtypes",
      "metadata": {
        "trusted": true
      },
      "outputs": [
        {
          "execution_count": 4,
          "output_type": "execute_result",
          "data": {
            "text/plain": "TransactionID               object\nCustomerID                  object\nCustomerDOB                 object\nCustGender                  object\nCustLocation                object\nCustAccountBalance         float64\nTransactionDate             object\nTransactionTime            float64\nTransactionAmount (INR)    float64\ndtype: object"
          },
          "metadata": {}
        }
      ],
      "execution_count": 4
    },
    {
      "id": "c60f0e84-07b8-4492-bc80-eb8d7c40fcbe",
      "cell_type": "code",
      "source": "df.isnull().sum()",
      "metadata": {
        "trusted": true
      },
      "outputs": [
        {
          "execution_count": 6,
          "output_type": "execute_result",
          "data": {
            "text/plain": "TransactionID                 0\nCustomerID                    0\nCustomerDOB                2846\nCustGender                  934\nCustLocation                131\nCustAccountBalance         2101\nTransactionDate               1\nTransactionTime               1\nTransactionAmount (INR)       1\ndtype: int64"
          },
          "metadata": {}
        }
      ],
      "execution_count": 6
    },
    {
      "id": "94aed7f8-6a74-4049-afdc-2676d8046c24",
      "cell_type": "code",
      "source": "df.shape",
      "metadata": {
        "trusted": true
      },
      "outputs": [
        {
          "execution_count": 7,
          "output_type": "execute_result",
          "data": {
            "text/plain": "(875575, 9)"
          },
          "metadata": {}
        }
      ],
      "execution_count": 7
    },
    {
      "id": "6ba57e33-6a9b-442d-ad31-ac48228a2a93",
      "cell_type": "code",
      "source": "df1=df.dropna()",
      "metadata": {
        "trusted": true
      },
      "outputs": [],
      "execution_count": 8
    },
    {
      "id": "dfa77cac-4991-4c90-93ef-697fcd94937a",
      "cell_type": "code",
      "source": "df1.shape",
      "metadata": {
        "trusted": true
      },
      "outputs": [
        {
          "execution_count": 9,
          "output_type": "execute_result",
          "data": {
            "text/plain": "(869606, 9)"
          },
          "metadata": {}
        }
      ],
      "execution_count": 9
    },
    {
      "id": "8374a5d9-5866-42c6-b5bb-8b29592de697",
      "cell_type": "code",
      "source": "df1.isna().sum()",
      "metadata": {
        "trusted": true
      },
      "outputs": [
        {
          "execution_count": 10,
          "output_type": "execute_result",
          "data": {
            "text/plain": "TransactionID              0\nCustomerID                 0\nCustomerDOB                0\nCustGender                 0\nCustLocation               0\nCustAccountBalance         0\nTransactionDate            0\nTransactionTime            0\nTransactionAmount (INR)    0\ndtype: int64"
          },
          "metadata": {}
        }
      ],
      "execution_count": 10
    },
    {
      "id": "1bd7e7ee-f3ba-46b2-af3f-bb98cedc0e5d",
      "cell_type": "code",
      "source": "df1['CustomerDOB'] = pd.to_datetime(df1['CustomerDOB'], dayfirst=True,format='mixed')\ndf1['Age'] = (pd.to_datetime('today') - df1['CustomerDOB']).dt.days // 365\ndf1",
      "metadata": {
        "trusted": true
      },
      "outputs": [
        {
          "name": "stderr",
          "output_type": "stream",
          "text": "<ipython-input-14-a2295b1f233f>:1: SettingWithCopyWarning: \nA value is trying to be set on a copy of a slice from a DataFrame.\nTry using .loc[row_indexer,col_indexer] = value instead\n\nSee the caveats in the documentation: https://pandas.pydata.org/pandas-docs/stable/user_guide/indexing.html#returning-a-view-versus-a-copy\n  df1['CustomerDOB'] = pd.to_datetime(df1['CustomerDOB'], dayfirst=True,format='mixed')\n<ipython-input-14-a2295b1f233f>:2: SettingWithCopyWarning: \nA value is trying to be set on a copy of a slice from a DataFrame.\nTry using .loc[row_indexer,col_indexer] = value instead\n\nSee the caveats in the documentation: https://pandas.pydata.org/pandas-docs/stable/user_guide/indexing.html#returning-a-view-versus-a-copy\n  df1['Age'] = (pd.to_datetime('today') - df1['CustomerDOB']).dt.days // 365\n"
        },
        {
          "execution_count": 14,
          "output_type": "execute_result",
          "data": {
            "text/plain": "       TransactionID CustomerID CustomerDOB CustGender  CustLocation  \\\n0                 T1   C5841053  1994-01-10          F    JAMSHEDPUR   \n1                 T2   C2142763  1957-04-04          M       JHAJJAR   \n2                 T3   C4417068  1996-11-26          F        MUMBAI   \n3                 T4   C5342380  1973-09-14          F        MUMBAI   \n4                 T5   C9031234  1988-03-24          F   NAVI MUMBAI   \n...              ...        ...         ...        ...           ...   \n875569       T875570   C3711315  1984-03-01          M     BANGALORE   \n875570       T875571   C2131177  1997-09-03          M        ROHTAK   \n875571       T875572   C1019311  1991-02-26          M  SECUNDERABAD   \n875572       T875573   C4413592  1992-07-13          M   NAVI MUMBAI   \n875573       T875574   C4813976  1983-07-10          M       GURGAON   \n\n        CustAccountBalance TransactionDate  TransactionTime  \\\n0                 17819.05      02-08-2016         143207.0   \n1                  2270.69      02-08-2016         141858.0   \n2                 17874.44      02-08-2016         142712.0   \n3                866503.21      02-08-2016         142714.0   \n4                  6714.43      02-08-2016         181156.0   \n...                    ...             ...              ...   \n875569             2049.25      07-09-2016         223528.0   \n875570               19.27      07-09-2016         222956.0   \n875571            24060.39      07-09-2016         223023.0   \n875572            16638.79      07-09-2016         223026.0   \n875573            51521.26      07-09-2016         223027.0   \n\n        TransactionAmount (INR)  Age  \n0                          25.0   31  \n1                       27999.0   67  \n2                         459.0   28  \n3                        2060.0   51  \n4                        1762.5   36  \n...                         ...  ...  \n875569                    400.0   40  \n875570                     74.0   27  \n875571                    688.0   33  \n875572                   2520.0   32  \n875573                    683.0   41  \n\n[869606 rows x 10 columns]",
            "text/html": "<div>\n<style scoped>\n    .dataframe tbody tr th:only-of-type {\n        vertical-align: middle;\n    }\n\n    .dataframe tbody tr th {\n        vertical-align: top;\n    }\n\n    .dataframe thead th {\n        text-align: right;\n    }\n</style>\n<table border=\"1\" class=\"dataframe\">\n  <thead>\n    <tr style=\"text-align: right;\">\n      <th></th>\n      <th>TransactionID</th>\n      <th>CustomerID</th>\n      <th>CustomerDOB</th>\n      <th>CustGender</th>\n      <th>CustLocation</th>\n      <th>CustAccountBalance</th>\n      <th>TransactionDate</th>\n      <th>TransactionTime</th>\n      <th>TransactionAmount (INR)</th>\n      <th>Age</th>\n    </tr>\n  </thead>\n  <tbody>\n    <tr>\n      <th>0</th>\n      <td>T1</td>\n      <td>C5841053</td>\n      <td>1994-01-10</td>\n      <td>F</td>\n      <td>JAMSHEDPUR</td>\n      <td>17819.05</td>\n      <td>02-08-2016</td>\n      <td>143207.0</td>\n      <td>25.0</td>\n      <td>31</td>\n    </tr>\n    <tr>\n      <th>1</th>\n      <td>T2</td>\n      <td>C2142763</td>\n      <td>1957-04-04</td>\n      <td>M</td>\n      <td>JHAJJAR</td>\n      <td>2270.69</td>\n      <td>02-08-2016</td>\n      <td>141858.0</td>\n      <td>27999.0</td>\n      <td>67</td>\n    </tr>\n    <tr>\n      <th>2</th>\n      <td>T3</td>\n      <td>C4417068</td>\n      <td>1996-11-26</td>\n      <td>F</td>\n      <td>MUMBAI</td>\n      <td>17874.44</td>\n      <td>02-08-2016</td>\n      <td>142712.0</td>\n      <td>459.0</td>\n      <td>28</td>\n    </tr>\n    <tr>\n      <th>3</th>\n      <td>T4</td>\n      <td>C5342380</td>\n      <td>1973-09-14</td>\n      <td>F</td>\n      <td>MUMBAI</td>\n      <td>866503.21</td>\n      <td>02-08-2016</td>\n      <td>142714.0</td>\n      <td>2060.0</td>\n      <td>51</td>\n    </tr>\n    <tr>\n      <th>4</th>\n      <td>T5</td>\n      <td>C9031234</td>\n      <td>1988-03-24</td>\n      <td>F</td>\n      <td>NAVI MUMBAI</td>\n      <td>6714.43</td>\n      <td>02-08-2016</td>\n      <td>181156.0</td>\n      <td>1762.5</td>\n      <td>36</td>\n    </tr>\n    <tr>\n      <th>...</th>\n      <td>...</td>\n      <td>...</td>\n      <td>...</td>\n      <td>...</td>\n      <td>...</td>\n      <td>...</td>\n      <td>...</td>\n      <td>...</td>\n      <td>...</td>\n      <td>...</td>\n    </tr>\n    <tr>\n      <th>875569</th>\n      <td>T875570</td>\n      <td>C3711315</td>\n      <td>1984-03-01</td>\n      <td>M</td>\n      <td>BANGALORE</td>\n      <td>2049.25</td>\n      <td>07-09-2016</td>\n      <td>223528.0</td>\n      <td>400.0</td>\n      <td>40</td>\n    </tr>\n    <tr>\n      <th>875570</th>\n      <td>T875571</td>\n      <td>C2131177</td>\n      <td>1997-09-03</td>\n      <td>M</td>\n      <td>ROHTAK</td>\n      <td>19.27</td>\n      <td>07-09-2016</td>\n      <td>222956.0</td>\n      <td>74.0</td>\n      <td>27</td>\n    </tr>\n    <tr>\n      <th>875571</th>\n      <td>T875572</td>\n      <td>C1019311</td>\n      <td>1991-02-26</td>\n      <td>M</td>\n      <td>SECUNDERABAD</td>\n      <td>24060.39</td>\n      <td>07-09-2016</td>\n      <td>223023.0</td>\n      <td>688.0</td>\n      <td>33</td>\n    </tr>\n    <tr>\n      <th>875572</th>\n      <td>T875573</td>\n      <td>C4413592</td>\n      <td>1992-07-13</td>\n      <td>M</td>\n      <td>NAVI MUMBAI</td>\n      <td>16638.79</td>\n      <td>07-09-2016</td>\n      <td>223026.0</td>\n      <td>2520.0</td>\n      <td>32</td>\n    </tr>\n    <tr>\n      <th>875573</th>\n      <td>T875574</td>\n      <td>C4813976</td>\n      <td>1983-07-10</td>\n      <td>M</td>\n      <td>GURGAON</td>\n      <td>51521.26</td>\n      <td>07-09-2016</td>\n      <td>223027.0</td>\n      <td>683.0</td>\n      <td>41</td>\n    </tr>\n  </tbody>\n</table>\n<p>869606 rows × 10 columns</p>\n</div>"
          },
          "metadata": {}
        }
      ],
      "execution_count": 14
    },
    {
      "id": "959e8e30-616a-49a4-a0bb-150e26b883c0",
      "cell_type": "code",
      "source": "df1.isna().sum()",
      "metadata": {
        "trusted": true
      },
      "outputs": [
        {
          "execution_count": 17,
          "output_type": "execute_result",
          "data": {
            "text/plain": "TransactionID              0\nCustomerID                 0\nCustomerDOB                0\nCustGender                 0\nCustLocation               0\nCustAccountBalance         0\nTransactionDate            0\nTransactionTime            0\nTransactionAmount (INR)    0\nAge                        0\ndtype: int64"
          },
          "metadata": {}
        }
      ],
      "execution_count": 17
    },
    {
      "id": "fe90020c-1443-454b-9fa9-79cf24c07da7",
      "cell_type": "code",
      "source": "Age Analysis ",
      "metadata": {
        "trusted": true,
        "jupyter": {
          "source_hidden": true
        }
      },
      "outputs": [],
      "execution_count": null
    },
    {
      "id": "360de678-5d72-4905-96b8-0d614cefd9fe",
      "cell_type": "code",
      "source": "import matplotlib.pyplot as plt",
      "metadata": {
        "trusted": true
      },
      "outputs": [
        {
          "name": "stderr",
          "output_type": "stream",
          "text": "Matplotlib is building the font cache; this may take a moment.\n"
        }
      ],
      "execution_count": 23
    },
    {
      "id": "a6f28626-4365-4239-b245-d4a2bb17a79c",
      "cell_type": "code",
      "source": "df1.info",
      "metadata": {
        "trusted": true
      },
      "outputs": [
        {
          "execution_count": 31,
          "output_type": "execute_result",
          "data": {
            "text/plain": "<bound method DataFrame.info of        TransactionID CustomerID CustomerDOB CustGender  CustLocation  \\\n0                 T1   C5841053  1994-01-10          F    JAMSHEDPUR   \n1                 T2   C2142763  1957-04-04          M       JHAJJAR   \n2                 T3   C4417068  1996-11-26          F        MUMBAI   \n3                 T4   C5342380  1973-09-14          F        MUMBAI   \n4                 T5   C9031234  1988-03-24          F   NAVI MUMBAI   \n...              ...        ...         ...        ...           ...   \n875569       T875570   C3711315  1984-03-01          M     BANGALORE   \n875570       T875571   C2131177  1997-09-03          M        ROHTAK   \n875571       T875572   C1019311  1991-02-26          M  SECUNDERABAD   \n875572       T875573   C4413592  1992-07-13          M   NAVI MUMBAI   \n875573       T875574   C4813976  1983-07-10          M       GURGAON   \n\n        CustAccountBalance TransactionDate  TransactionTime  \\\n0                 17819.05      02-08-2016         143207.0   \n1                  2270.69      02-08-2016         141858.0   \n2                 17874.44      02-08-2016         142712.0   \n3                866503.21      02-08-2016         142714.0   \n4                  6714.43      02-08-2016         181156.0   \n...                    ...             ...              ...   \n875569             2049.25      07-09-2016         223528.0   \n875570               19.27      07-09-2016         222956.0   \n875571            24060.39      07-09-2016         223023.0   \n875572            16638.79      07-09-2016         223026.0   \n875573            51521.26      07-09-2016         223027.0   \n\n        TransactionAmount (INR)  Age  \n0                          25.0   31  \n1                       27999.0   67  \n2                         459.0   28  \n3                        2060.0   51  \n4                        1762.5   36  \n...                         ...  ...  \n875569                    400.0   40  \n875570                     74.0   27  \n875571                    688.0   33  \n875572                   2520.0   32  \n875573                    683.0   41  \n\n[869606 rows x 10 columns]>"
          },
          "metadata": {}
        }
      ],
      "execution_count": 31
    },
    {
      "id": "ddbbee79-9d9e-408e-99e1-d3f950cfee80",
      "cell_type": "code",
      "source": "df1.info()",
      "metadata": {
        "trusted": true
      },
      "outputs": [
        {
          "name": "stdout",
          "output_type": "stream",
          "text": "<class 'pandas.core.frame.DataFrame'>\nIndex: 869606 entries, 0 to 875573\nData columns (total 10 columns):\n #   Column                   Non-Null Count   Dtype         \n---  ------                   --------------   -----         \n 0   TransactionID            869606 non-null  object        \n 1   CustomerID               869606 non-null  object        \n 2   CustomerDOB              869606 non-null  datetime64[ns]\n 3   CustGender               869606 non-null  object        \n 4   CustLocation             869606 non-null  object        \n 5   CustAccountBalance       869606 non-null  float64       \n 6   TransactionDate          869606 non-null  object        \n 7   TransactionTime          869606 non-null  float64       \n 8   TransactionAmount (INR)  869606 non-null  float64       \n 9   Age                      869606 non-null  int64         \ndtypes: datetime64[ns](1), float64(3), int64(1), object(5)\nmemory usage: 56.4+ MB\n"
        }
      ],
      "execution_count": 34
    },
    {
      "id": "03193c19-0022-4032-aee4-49ad8bbae35a",
      "cell_type": "code",
      "source": "df1.describe()",
      "metadata": {
        "trusted": true
      },
      "outputs": [
        {
          "execution_count": 35,
          "output_type": "execute_result",
          "data": {
            "text/plain": "                         CustomerDOB  CustAccountBalance  TransactionTime  \\\ncount                         869606        8.696060e+05    869606.000000   \nmean   1975-05-18 08:50:13.083166464        1.148167e+05    157241.654920   \nmin              1800-01-01 00:00:00        0.000000e+00         0.000000   \n25%              1980-07-08 00:00:00        4.701360e+03    124145.000000   \n50%              1987-03-23 00:00:00        1.680968e+04    164426.000000   \n75%              1991-02-14 00:00:00        5.758374e+04    200101.000000   \nmax              2029-12-19 00:00:00        1.150355e+08    235959.000000   \nstd                              NaN        8.101808e+05     51276.367715   \n\n       TransactionAmount (INR)            Age  \ncount             8.696060e+05  869606.000000  \nmean              1.578306e+03      49.225953  \nmin               0.000000e+00      -5.000000  \n25%               1.610000e+02      33.000000  \n50%               4.600000e+02      37.000000  \n75%               1.200000e+03      44.000000  \nmax               1.560035e+06     225.000000  \nstd               6.673696e+03      43.010993  ",
            "text/html": "<div>\n<style scoped>\n    .dataframe tbody tr th:only-of-type {\n        vertical-align: middle;\n    }\n\n    .dataframe tbody tr th {\n        vertical-align: top;\n    }\n\n    .dataframe thead th {\n        text-align: right;\n    }\n</style>\n<table border=\"1\" class=\"dataframe\">\n  <thead>\n    <tr style=\"text-align: right;\">\n      <th></th>\n      <th>CustomerDOB</th>\n      <th>CustAccountBalance</th>\n      <th>TransactionTime</th>\n      <th>TransactionAmount (INR)</th>\n      <th>Age</th>\n    </tr>\n  </thead>\n  <tbody>\n    <tr>\n      <th>count</th>\n      <td>869606</td>\n      <td>8.696060e+05</td>\n      <td>869606.000000</td>\n      <td>8.696060e+05</td>\n      <td>869606.000000</td>\n    </tr>\n    <tr>\n      <th>mean</th>\n      <td>1975-05-18 08:50:13.083166464</td>\n      <td>1.148167e+05</td>\n      <td>157241.654920</td>\n      <td>1.578306e+03</td>\n      <td>49.225953</td>\n    </tr>\n    <tr>\n      <th>min</th>\n      <td>1800-01-01 00:00:00</td>\n      <td>0.000000e+00</td>\n      <td>0.000000</td>\n      <td>0.000000e+00</td>\n      <td>-5.000000</td>\n    </tr>\n    <tr>\n      <th>25%</th>\n      <td>1980-07-08 00:00:00</td>\n      <td>4.701360e+03</td>\n      <td>124145.000000</td>\n      <td>1.610000e+02</td>\n      <td>33.000000</td>\n    </tr>\n    <tr>\n      <th>50%</th>\n      <td>1987-03-23 00:00:00</td>\n      <td>1.680968e+04</td>\n      <td>164426.000000</td>\n      <td>4.600000e+02</td>\n      <td>37.000000</td>\n    </tr>\n    <tr>\n      <th>75%</th>\n      <td>1991-02-14 00:00:00</td>\n      <td>5.758374e+04</td>\n      <td>200101.000000</td>\n      <td>1.200000e+03</td>\n      <td>44.000000</td>\n    </tr>\n    <tr>\n      <th>max</th>\n      <td>2029-12-19 00:00:00</td>\n      <td>1.150355e+08</td>\n      <td>235959.000000</td>\n      <td>1.560035e+06</td>\n      <td>225.000000</td>\n    </tr>\n    <tr>\n      <th>std</th>\n      <td>NaN</td>\n      <td>8.101808e+05</td>\n      <td>51276.367715</td>\n      <td>6.673696e+03</td>\n      <td>43.010993</td>\n    </tr>\n  </tbody>\n</table>\n</div>"
          },
          "metadata": {}
        }
      ],
      "execution_count": 35
    },
    {
      "id": "fbd6a859-0e11-4284-b95a-d2bf64e78d62",
      "cell_type": "code",
      "source": "age based clusters ",
      "metadata": {
        "trusted": true,
        "jupyter": {
          "source_hidden": true
        }
      },
      "outputs": [],
      "execution_count": null
    },
    {
      "id": "a1120d36-df82-41be-8b31-476940050186",
      "cell_type": "code",
      "source": "import pandas as pd\ndef age_group(age):\n    if age < 25:\n        return 'Young Adult (<25)'\n    elif 25 <= age < 40:\n        return 'Mid-Aged (25-40)'\n    elif 40 <= age < 60:\n        return 'Older Adult (40-60)'\n    else:\n        return 'Senior (60+)'\ndf1['AgeGroup'] = df1['Age'].apply(age_group)\nprint(df1[['CustomerID', 'Age', 'AgeGroup']])\n",
      "metadata": {
        "trusted": true
      },
      "outputs": [
        {
          "name": "stderr",
          "output_type": "stream",
          "text": "<ipython-input-45-b04357a5c932>:15: SettingWithCopyWarning: \nA value is trying to be set on a copy of a slice from a DataFrame.\nTry using .loc[row_indexer,col_indexer] = value instead\n\nSee the caveats in the documentation: https://pandas.pydata.org/pandas-docs/stable/user_guide/indexing.html#returning-a-view-versus-a-copy\n  df1['AgeGroup'] = df1['Age'].apply(age_group)\n"
        },
        {
          "name": "stdout",
          "output_type": "stream",
          "text": "       CustomerID  Age             AgeGroup\n0        C5841053   31     Mid-Aged (25-40)\n1        C2142763   67         Senior (60+)\n2        C4417068   28     Mid-Aged (25-40)\n3        C5342380   51  Older Adult (40-60)\n4        C9031234   36     Mid-Aged (25-40)\n...           ...  ...                  ...\n875569   C3711315   40  Older Adult (40-60)\n875570   C2131177   27     Mid-Aged (25-40)\n875571   C1019311   33     Mid-Aged (25-40)\n875572   C4413592   32     Mid-Aged (25-40)\n875573   C4813976   41  Older Adult (40-60)\n\n[869606 rows x 3 columns]\n"
        }
      ],
      "execution_count": 45
    },
    {
      "id": "48244152-9ec3-4565-8b9f-ea81363811f1",
      "cell_type": "code",
      "source": "transaction_frequency_by_age = df1.groupby('AgeGroup').size().reset_index(name='TransactionFrequency')\nprint(transaction_frequency_by_age)",
      "metadata": {
        "trusted": true
      },
      "outputs": [
        {
          "name": "stdout",
          "output_type": "stream",
          "text": "              AgeGroup  TransactionFrequency\n0     Mid-Aged (25-40)                523787\n1  Older Adult (40-60)                267547\n2         Senior (60+)                 77401\n3    Young Adult (<25)                   871\n"
        }
      ],
      "execution_count": 46
    },
    {
      "id": "86ce5983-c4c6-4f9d-a8b5-c2eecc03acd8",
      "cell_type": "code",
      "source": "gender based cluster ",
      "metadata": {
        "trusted": true,
        "jupyter": {
          "source_hidden": true
        }
      },
      "outputs": [],
      "execution_count": null
    },
    {
      "id": "acdc9533-7699-4b06-829f-0d6530d3b2ad",
      "cell_type": "code",
      "source": "df1.head()",
      "metadata": {
        "trusted": true
      },
      "outputs": [
        {
          "execution_count": 49,
          "output_type": "execute_result",
          "data": {
            "text/plain": "  TransactionID CustomerID CustomerDOB CustGender CustLocation  \\\n0            T1   C5841053  1994-01-10          F   JAMSHEDPUR   \n1            T2   C2142763  1957-04-04          M      JHAJJAR   \n2            T3   C4417068  1996-11-26          F       MUMBAI   \n3            T4   C5342380  1973-09-14          F       MUMBAI   \n4            T5   C9031234  1988-03-24          F  NAVI MUMBAI   \n\n   CustAccountBalance TransactionDate  TransactionTime  \\\n0            17819.05      02-08-2016         143207.0   \n1             2270.69      02-08-2016         141858.0   \n2            17874.44      02-08-2016         142712.0   \n3           866503.21      02-08-2016         142714.0   \n4             6714.43      02-08-2016         181156.0   \n\n   TransactionAmount (INR)  Age             AgeGroup  \n0                     25.0   31     Mid-Aged (25-40)  \n1                  27999.0   67         Senior (60+)  \n2                    459.0   28     Mid-Aged (25-40)  \n3                   2060.0   51  Older Adult (40-60)  \n4                   1762.5   36     Mid-Aged (25-40)  ",
            "text/html": "<div>\n<style scoped>\n    .dataframe tbody tr th:only-of-type {\n        vertical-align: middle;\n    }\n\n    .dataframe tbody tr th {\n        vertical-align: top;\n    }\n\n    .dataframe thead th {\n        text-align: right;\n    }\n</style>\n<table border=\"1\" class=\"dataframe\">\n  <thead>\n    <tr style=\"text-align: right;\">\n      <th></th>\n      <th>TransactionID</th>\n      <th>CustomerID</th>\n      <th>CustomerDOB</th>\n      <th>CustGender</th>\n      <th>CustLocation</th>\n      <th>CustAccountBalance</th>\n      <th>TransactionDate</th>\n      <th>TransactionTime</th>\n      <th>TransactionAmount (INR)</th>\n      <th>Age</th>\n      <th>AgeGroup</th>\n    </tr>\n  </thead>\n  <tbody>\n    <tr>\n      <th>0</th>\n      <td>T1</td>\n      <td>C5841053</td>\n      <td>1994-01-10</td>\n      <td>F</td>\n      <td>JAMSHEDPUR</td>\n      <td>17819.05</td>\n      <td>02-08-2016</td>\n      <td>143207.0</td>\n      <td>25.0</td>\n      <td>31</td>\n      <td>Mid-Aged (25-40)</td>\n    </tr>\n    <tr>\n      <th>1</th>\n      <td>T2</td>\n      <td>C2142763</td>\n      <td>1957-04-04</td>\n      <td>M</td>\n      <td>JHAJJAR</td>\n      <td>2270.69</td>\n      <td>02-08-2016</td>\n      <td>141858.0</td>\n      <td>27999.0</td>\n      <td>67</td>\n      <td>Senior (60+)</td>\n    </tr>\n    <tr>\n      <th>2</th>\n      <td>T3</td>\n      <td>C4417068</td>\n      <td>1996-11-26</td>\n      <td>F</td>\n      <td>MUMBAI</td>\n      <td>17874.44</td>\n      <td>02-08-2016</td>\n      <td>142712.0</td>\n      <td>459.0</td>\n      <td>28</td>\n      <td>Mid-Aged (25-40)</td>\n    </tr>\n    <tr>\n      <th>3</th>\n      <td>T4</td>\n      <td>C5342380</td>\n      <td>1973-09-14</td>\n      <td>F</td>\n      <td>MUMBAI</td>\n      <td>866503.21</td>\n      <td>02-08-2016</td>\n      <td>142714.0</td>\n      <td>2060.0</td>\n      <td>51</td>\n      <td>Older Adult (40-60)</td>\n    </tr>\n    <tr>\n      <th>4</th>\n      <td>T5</td>\n      <td>C9031234</td>\n      <td>1988-03-24</td>\n      <td>F</td>\n      <td>NAVI MUMBAI</td>\n      <td>6714.43</td>\n      <td>02-08-2016</td>\n      <td>181156.0</td>\n      <td>1762.5</td>\n      <td>36</td>\n      <td>Mid-Aged (25-40)</td>\n    </tr>\n  </tbody>\n</table>\n</div>"
          },
          "metadata": {}
        }
      ],
      "execution_count": 49
    },
    {
      "id": "8dec9767-1069-464d-bd9b-3d84242739b6",
      "cell_type": "code",
      "source": "transaction_frequency_by_gender = df1.groupby('CustGender').size().reset_index(name='TransactionFrequency')",
      "metadata": {
        "trusted": true
      },
      "outputs": [],
      "execution_count": 50
    },
    {
      "id": "0e24be05-76f8-46a5-9838-66174848e0a9",
      "cell_type": "code",
      "source": "transaction_frequency_by_gender",
      "metadata": {
        "trusted": true
      },
      "outputs": [
        {
          "execution_count": 51,
          "output_type": "execute_result",
          "data": {
            "text/plain": "  CustGender  TransactionFrequency\n0          F                234994\n1          M                634612",
            "text/html": "<div>\n<style scoped>\n    .dataframe tbody tr th:only-of-type {\n        vertical-align: middle;\n    }\n\n    .dataframe tbody tr th {\n        vertical-align: top;\n    }\n\n    .dataframe thead th {\n        text-align: right;\n    }\n</style>\n<table border=\"1\" class=\"dataframe\">\n  <thead>\n    <tr style=\"text-align: right;\">\n      <th></th>\n      <th>CustGender</th>\n      <th>TransactionFrequency</th>\n    </tr>\n  </thead>\n  <tbody>\n    <tr>\n      <th>0</th>\n      <td>F</td>\n      <td>234994</td>\n    </tr>\n    <tr>\n      <th>1</th>\n      <td>M</td>\n      <td>634612</td>\n    </tr>\n  </tbody>\n</table>\n</div>"
          },
          "metadata": {}
        }
      ],
      "execution_count": 51
    },
    {
      "id": "0d3e78bb-8cf1-44d8-b5c0-e56d25966547",
      "cell_type": "code",
      "source": "transaction_frequency_by_location = df1.groupby('CustLocation').size().reset_index(name='TransactionFrequency')",
      "metadata": {
        "trusted": true
      },
      "outputs": [],
      "execution_count": 52
    },
    {
      "id": "5da1f5b5-f12e-49e4-adf1-bb70a4f3f9fe",
      "cell_type": "code",
      "source": "transaction_frequency_by_location",
      "metadata": {
        "trusted": true
      },
      "outputs": [
        {
          "execution_count": 53,
          "output_type": "execute_result",
          "data": {
            "text/plain": "                        CustLocation  TransactionFrequency\n0           (154) BHASKOLA FARIDABAD                     8\n1         (BEFORE YMCA BLDG) CHENNAI                     1\n2            (BENAKA MDTS) BANGALORE                    21\n3              (BRINDA BAN ) KOLKATA                     4\n4                         (DT) HOSUR                    11\n...                              ...                   ...\n8816       ZONE WHITEFIELD BANGALORE                    37\n8817  ZOPADPATTI TEHSIL KURLA MUMBAI                     1\n8818                      ZUARINAGAR                     6\n8819                  ZUMARI TILAIYA                     8\n8820                       ZUNHEBOTO                     1\n\n[8821 rows x 2 columns]",
            "text/html": "<div>\n<style scoped>\n    .dataframe tbody tr th:only-of-type {\n        vertical-align: middle;\n    }\n\n    .dataframe tbody tr th {\n        vertical-align: top;\n    }\n\n    .dataframe thead th {\n        text-align: right;\n    }\n</style>\n<table border=\"1\" class=\"dataframe\">\n  <thead>\n    <tr style=\"text-align: right;\">\n      <th></th>\n      <th>CustLocation</th>\n      <th>TransactionFrequency</th>\n    </tr>\n  </thead>\n  <tbody>\n    <tr>\n      <th>0</th>\n      <td>(154) BHASKOLA FARIDABAD</td>\n      <td>8</td>\n    </tr>\n    <tr>\n      <th>1</th>\n      <td>(BEFORE YMCA BLDG) CHENNAI</td>\n      <td>1</td>\n    </tr>\n    <tr>\n      <th>2</th>\n      <td>(BENAKA MDTS) BANGALORE</td>\n      <td>21</td>\n    </tr>\n    <tr>\n      <th>3</th>\n      <td>(BRINDA BAN ) KOLKATA</td>\n      <td>4</td>\n    </tr>\n    <tr>\n      <th>4</th>\n      <td>(DT) HOSUR</td>\n      <td>11</td>\n    </tr>\n    <tr>\n      <th>...</th>\n      <td>...</td>\n      <td>...</td>\n    </tr>\n    <tr>\n      <th>8816</th>\n      <td>ZONE WHITEFIELD BANGALORE</td>\n      <td>37</td>\n    </tr>\n    <tr>\n      <th>8817</th>\n      <td>ZOPADPATTI TEHSIL KURLA MUMBAI</td>\n      <td>1</td>\n    </tr>\n    <tr>\n      <th>8818</th>\n      <td>ZUARINAGAR</td>\n      <td>6</td>\n    </tr>\n    <tr>\n      <th>8819</th>\n      <td>ZUMARI TILAIYA</td>\n      <td>8</td>\n    </tr>\n    <tr>\n      <th>8820</th>\n      <td>ZUNHEBOTO</td>\n      <td>1</td>\n    </tr>\n  </tbody>\n</table>\n<p>8821 rows × 2 columns</p>\n</div>"
          },
          "metadata": {}
        }
      ],
      "execution_count": 53
    },
    {
      "id": "acb4daa3-d7ab-49c1-8d04-4b824c5385a6",
      "cell_type": "code",
      "source": "transaction_frequency_by_location = transaction_frequency_by_location.sort_values(by='TransactionFrequency', ascending=False)",
      "metadata": {
        "trusted": true
      },
      "outputs": [],
      "execution_count": 54
    },
    {
      "id": "b999d231-3ef2-4ac9-848d-82a17532027e",
      "cell_type": "code",
      "source": "transaction_frequency_by_location",
      "metadata": {
        "trusted": true
      },
      "outputs": [
        {
          "execution_count": 55,
          "output_type": "execute_result",
          "data": {
            "text/plain": "              CustLocation  TransactionFrequency\n4967                MUMBAI                 85618\n5457             NEW DELHI                 70444\n730              BANGALORE                 68407\n2906               GURGAON                 61521\n1941                 DELHI                 58537\n...                    ...                   ...\n1640          CHUVACHANPUR                     1\n6006    PASHCHIM CHAMPARAN                     1\n6008  PASSPORT OFFICE PUNE                     1\n6009     PASWADA GHAZIABAD                     1\n8820             ZUNHEBOTO                     1\n\n[8821 rows x 2 columns]",
            "text/html": "<div>\n<style scoped>\n    .dataframe tbody tr th:only-of-type {\n        vertical-align: middle;\n    }\n\n    .dataframe tbody tr th {\n        vertical-align: top;\n    }\n\n    .dataframe thead th {\n        text-align: right;\n    }\n</style>\n<table border=\"1\" class=\"dataframe\">\n  <thead>\n    <tr style=\"text-align: right;\">\n      <th></th>\n      <th>CustLocation</th>\n      <th>TransactionFrequency</th>\n    </tr>\n  </thead>\n  <tbody>\n    <tr>\n      <th>4967</th>\n      <td>MUMBAI</td>\n      <td>85618</td>\n    </tr>\n    <tr>\n      <th>5457</th>\n      <td>NEW DELHI</td>\n      <td>70444</td>\n    </tr>\n    <tr>\n      <th>730</th>\n      <td>BANGALORE</td>\n      <td>68407</td>\n    </tr>\n    <tr>\n      <th>2906</th>\n      <td>GURGAON</td>\n      <td>61521</td>\n    </tr>\n    <tr>\n      <th>1941</th>\n      <td>DELHI</td>\n      <td>58537</td>\n    </tr>\n    <tr>\n      <th>...</th>\n      <td>...</td>\n      <td>...</td>\n    </tr>\n    <tr>\n      <th>1640</th>\n      <td>CHUVACHANPUR</td>\n      <td>1</td>\n    </tr>\n    <tr>\n      <th>6006</th>\n      <td>PASHCHIM CHAMPARAN</td>\n      <td>1</td>\n    </tr>\n    <tr>\n      <th>6008</th>\n      <td>PASSPORT OFFICE PUNE</td>\n      <td>1</td>\n    </tr>\n    <tr>\n      <th>6009</th>\n      <td>PASWADA GHAZIABAD</td>\n      <td>1</td>\n    </tr>\n    <tr>\n      <th>8820</th>\n      <td>ZUNHEBOTO</td>\n      <td>1</td>\n    </tr>\n  </tbody>\n</table>\n<p>8821 rows × 2 columns</p>\n</div>"
          },
          "metadata": {}
        }
      ],
      "execution_count": 55
    },
    {
      "id": "b40fedd5-808f-401c-8626-07988bda1f52",
      "cell_type": "code",
      "source": "transaction_frequency_by_gender_location = df1.groupby(['CustGender', 'CustLocation']).size().reset_index(name='TransactionFrequency')",
      "metadata": {
        "trusted": true
      },
      "outputs": [],
      "execution_count": 56
    },
    {
      "id": "30f23b4d-a56b-4eee-8639-111d190de298",
      "cell_type": "code",
      "source": "transaction_frequency_by_gender_location",
      "metadata": {
        "trusted": true
      },
      "outputs": [
        {
          "execution_count": 57,
          "output_type": "execute_result",
          "data": {
            "text/plain": "      CustGender                    CustLocation  TransactionFrequency\n0              F        (154) BHASKOLA FARIDABAD                     8\n1              F                      (E) MUMBAI                     6\n2              F                   (EAST) MUMBAI                     7\n3              F                 (MOHALI) KHARAR                    10\n4              F           (PITAMPURA) NEW DELHI                     2\n...          ...                             ...                   ...\n10361          M                        ZIRAKPUR                  1161\n10362          M               ZIRAKPUR ZIRAKPUR                     8\n10363          M                         ZIRKPUR                     7\n10364          M  ZOPADPATTI TEHSIL KURLA MUMBAI                     1\n10365          M                      ZUARINAGAR                     6\n\n[10366 rows x 3 columns]",
            "text/html": "<div>\n<style scoped>\n    .dataframe tbody tr th:only-of-type {\n        vertical-align: middle;\n    }\n\n    .dataframe tbody tr th {\n        vertical-align: top;\n    }\n\n    .dataframe thead th {\n        text-align: right;\n    }\n</style>\n<table border=\"1\" class=\"dataframe\">\n  <thead>\n    <tr style=\"text-align: right;\">\n      <th></th>\n      <th>CustGender</th>\n      <th>CustLocation</th>\n      <th>TransactionFrequency</th>\n    </tr>\n  </thead>\n  <tbody>\n    <tr>\n      <th>0</th>\n      <td>F</td>\n      <td>(154) BHASKOLA FARIDABAD</td>\n      <td>8</td>\n    </tr>\n    <tr>\n      <th>1</th>\n      <td>F</td>\n      <td>(E) MUMBAI</td>\n      <td>6</td>\n    </tr>\n    <tr>\n      <th>2</th>\n      <td>F</td>\n      <td>(EAST) MUMBAI</td>\n      <td>7</td>\n    </tr>\n    <tr>\n      <th>3</th>\n      <td>F</td>\n      <td>(MOHALI) KHARAR</td>\n      <td>10</td>\n    </tr>\n    <tr>\n      <th>4</th>\n      <td>F</td>\n      <td>(PITAMPURA) NEW DELHI</td>\n      <td>2</td>\n    </tr>\n    <tr>\n      <th>...</th>\n      <td>...</td>\n      <td>...</td>\n      <td>...</td>\n    </tr>\n    <tr>\n      <th>10361</th>\n      <td>M</td>\n      <td>ZIRAKPUR</td>\n      <td>1161</td>\n    </tr>\n    <tr>\n      <th>10362</th>\n      <td>M</td>\n      <td>ZIRAKPUR ZIRAKPUR</td>\n      <td>8</td>\n    </tr>\n    <tr>\n      <th>10363</th>\n      <td>M</td>\n      <td>ZIRKPUR</td>\n      <td>7</td>\n    </tr>\n    <tr>\n      <th>10364</th>\n      <td>M</td>\n      <td>ZOPADPATTI TEHSIL KURLA MUMBAI</td>\n      <td>1</td>\n    </tr>\n    <tr>\n      <th>10365</th>\n      <td>M</td>\n      <td>ZUARINAGAR</td>\n      <td>6</td>\n    </tr>\n  </tbody>\n</table>\n<p>10366 rows × 3 columns</p>\n</div>"
          },
          "metadata": {}
        }
      ],
      "execution_count": 57
    },
    {
      "id": "46684869-ea45-4cd3-9959-6cf61f3eabac",
      "cell_type": "code",
      "source": "transaction_frequency_by_gender_location = transaction_frequency_by_gender_location.sort_values(by='TransactionFrequency', ascending=False)\n",
      "metadata": {
        "trusted": true
      },
      "outputs": [],
      "execution_count": 58
    },
    {
      "id": "255d7f34-d9ff-49ac-b4b1-f943b1a6b2f6",
      "cell_type": "code",
      "source": "transaction_frequency_by_gender_location",
      "metadata": {
        "trusted": true
      },
      "outputs": [
        {
          "execution_count": 59,
          "output_type": "execute_result",
          "data": {
            "text/plain": "     CustGender                 CustLocation  TransactionFrequency\n7117          M                       MUMBAI                 58591\n7535          M                    NEW DELHI                 49999\n3519          M                    BANGALORE                 48173\n5362          M                      GURGAON                 40445\n4548          M                        DELHI                 40351\n...         ...                          ...                   ...\n5446          M                      HARSOLI                     1\n8708          M      SADARAMANGALA BANGALORE                     1\n5445          M                       HARSAN                     1\n1449          F               MADHYA PRADESH                     1\n6542          M  LAYOUT 2ND SECTOR BANGALORE                     1\n\n[10366 rows x 3 columns]",
            "text/html": "<div>\n<style scoped>\n    .dataframe tbody tr th:only-of-type {\n        vertical-align: middle;\n    }\n\n    .dataframe tbody tr th {\n        vertical-align: top;\n    }\n\n    .dataframe thead th {\n        text-align: right;\n    }\n</style>\n<table border=\"1\" class=\"dataframe\">\n  <thead>\n    <tr style=\"text-align: right;\">\n      <th></th>\n      <th>CustGender</th>\n      <th>CustLocation</th>\n      <th>TransactionFrequency</th>\n    </tr>\n  </thead>\n  <tbody>\n    <tr>\n      <th>7117</th>\n      <td>M</td>\n      <td>MUMBAI</td>\n      <td>58591</td>\n    </tr>\n    <tr>\n      <th>7535</th>\n      <td>M</td>\n      <td>NEW DELHI</td>\n      <td>49999</td>\n    </tr>\n    <tr>\n      <th>3519</th>\n      <td>M</td>\n      <td>BANGALORE</td>\n      <td>48173</td>\n    </tr>\n    <tr>\n      <th>5362</th>\n      <td>M</td>\n      <td>GURGAON</td>\n      <td>40445</td>\n    </tr>\n    <tr>\n      <th>4548</th>\n      <td>M</td>\n      <td>DELHI</td>\n      <td>40351</td>\n    </tr>\n    <tr>\n      <th>...</th>\n      <td>...</td>\n      <td>...</td>\n      <td>...</td>\n    </tr>\n    <tr>\n      <th>5446</th>\n      <td>M</td>\n      <td>HARSOLI</td>\n      <td>1</td>\n    </tr>\n    <tr>\n      <th>8708</th>\n      <td>M</td>\n      <td>SADARAMANGALA BANGALORE</td>\n      <td>1</td>\n    </tr>\n    <tr>\n      <th>5445</th>\n      <td>M</td>\n      <td>HARSAN</td>\n      <td>1</td>\n    </tr>\n    <tr>\n      <th>1449</th>\n      <td>F</td>\n      <td>MADHYA PRADESH</td>\n      <td>1</td>\n    </tr>\n    <tr>\n      <th>6542</th>\n      <td>M</td>\n      <td>LAYOUT 2ND SECTOR BANGALORE</td>\n      <td>1</td>\n    </tr>\n  </tbody>\n</table>\n<p>10366 rows × 3 columns</p>\n</div>"
          },
          "metadata": {}
        }
      ],
      "execution_count": 59
    },
    {
      "id": "3ad00acf-1b9e-4490-b0d4-d23a994337cd",
      "cell_type": "code",
      "source": "account balance cluster ",
      "metadata": {
        "trusted": true,
        "jupyter": {
          "source_hidden": true
        }
      },
      "outputs": [],
      "execution_count": null
    },
    {
      "id": "7f07b713-df4e-40a5-99b8-fc575b407742",
      "cell_type": "code",
      "source": "q25 = df['CustAccountBalance'].quantile(0.25)\nq50 = df['CustAccountBalance'].quantile(0.50)  # This is the median\nq75 = df['CustAccountBalance'].quantile(0.75)\nq100=df['CustAccountBalance'].max()",
      "metadata": {
        "trusted": true
      },
      "outputs": [],
      "execution_count": 64
    },
    {
      "id": "4a2c78a1-ad1d-44ed-8749-6cb506dc4362",
      "cell_type": "code",
      "source": "q25",
      "metadata": {
        "trusted": true
      },
      "outputs": [
        {
          "execution_count": 61,
          "output_type": "execute_result",
          "data": {
            "text/plain": "np.float64(4698.0)"
          },
          "metadata": {}
        }
      ],
      "execution_count": 61
    },
    {
      "id": "8133cd12-8aa7-4eab-8c16-e4e57a833bb0",
      "cell_type": "code",
      "source": "q50",
      "metadata": {
        "trusted": true
      },
      "outputs": [
        {
          "execution_count": 62,
          "output_type": "execute_result",
          "data": {
            "text/plain": "np.float64(16839.53)"
          },
          "metadata": {}
        }
      ],
      "execution_count": 62
    },
    {
      "id": "762b549e-e979-4d22-ad05-def6e660c828",
      "cell_type": "code",
      "source": "q75",
      "metadata": {
        "trusted": true
      },
      "outputs": [
        {
          "execution_count": 63,
          "output_type": "execute_result",
          "data": {
            "text/plain": "np.float64(57821.23)"
          },
          "metadata": {}
        }
      ],
      "execution_count": 63
    },
    {
      "id": "2c142132-7244-433b-a22c-aac1847657d5",
      "cell_type": "code",
      "source": "q100",
      "metadata": {
        "trusted": true
      },
      "outputs": [
        {
          "execution_count": 65,
          "output_type": "execute_result",
          "data": {
            "text/plain": "np.float64(115035495.1)"
          },
          "metadata": {}
        }
      ],
      "execution_count": 65
    },
    {
      "id": "08b478ca-2c2c-445e-8111-53f2ebc77c8b",
      "cell_type": "code",
      "source": "def CustAccountBalance_group(CustAccountBalance):\n    if CustAccountBalance < 4698.0:\n        return 'inactive'\n    elif 4698.0 <= CustAccountBalance <16839.53:\n        return 'Mid-Active'\n    elif 16839.53 <= CustAccountBalance <57821.23:\n        return 'Active'\n    else:\n        return 'Super Active'\ndf1['CustAccountBalance_group'] = df1['CustAccountBalance'].apply(CustAccountBalance_group)\n\ntransaction_frequency_by_balance = df1.groupby('CustAccountBalance_group').size().reset_index(name='TransactionFrequency')\nprint(transaction_frequency_by_balance)",
      "metadata": {
        "trusted": true
      },
      "outputs": [
        {
          "name": "stderr",
          "output_type": "stream",
          "text": "<ipython-input-67-99a726a1571c>:12: SettingWithCopyWarning: \nA value is trying to be set on a copy of a slice from a DataFrame.\nTry using .loc[row_indexer,col_indexer] = value instead\n\nSee the caveats in the documentation: https://pandas.pydata.org/pandas-docs/stable/user_guide/indexing.html#returning-a-view-versus-a-copy\n  df1['CustAccountBalance_group'] = df1['CustAccountBalance'].apply(CustAccountBalance_group)\n"
        },
        {
          "name": "stdout",
          "output_type": "stream",
          "text": "  CustAccountBalance_group  TransactionFrequency\n0                   Active                217703\n1               Mid-Active                217874\n2             Super Active                216800\n3                 inactive                217229\n"
        }
      ],
      "execution_count": 67
    },
    {
      "id": "10da9ba1-dc46-4c22-bb27-2c8fea7c67ee",
      "cell_type": "code",
      "source": "balance_frequency_by_location = df1.groupby(['CustLocation', 'CustAccountBalance_group']).size().reset_index(name='AccountFrequency')",
      "metadata": {
        "trusted": true
      },
      "outputs": [],
      "execution_count": 69
    },
    {
      "id": "6e81541f-58b4-43f7-bb55-8520ca63d70c",
      "cell_type": "code",
      "source": "balance_frequency_by_location",
      "metadata": {
        "trusted": true
      },
      "outputs": [
        {
          "execution_count": 70,
          "output_type": "execute_result",
          "data": {
            "text/plain": "                         CustLocation CustAccountBalance_group  \\\n0            (154) BHASKOLA FARIDABAD                   Active   \n1          (BEFORE YMCA BLDG) CHENNAI                 inactive   \n2             (BENAKA MDTS) BANGALORE                 inactive   \n3               (BRINDA BAN ) KOLKATA               Mid-Active   \n4                          (DT) HOSUR               Mid-Active   \n...                               ...                      ...   \n13061       ZONE WHITEFIELD BANGALORE                   Active   \n13062  ZOPADPATTI TEHSIL KURLA MUMBAI                   Active   \n13063                      ZUARINAGAR                   Active   \n13064                  ZUMARI TILAIYA             Super Active   \n13065                       ZUNHEBOTO                   Active   \n\n       AccountFrequency  \n0                     8  \n1                     1  \n2                    21  \n3                     4  \n4                     8  \n...                 ...  \n13061                37  \n13062                 1  \n13063                 6  \n13064                 8  \n13065                 1  \n\n[13066 rows x 3 columns]",
            "text/html": "<div>\n<style scoped>\n    .dataframe tbody tr th:only-of-type {\n        vertical-align: middle;\n    }\n\n    .dataframe tbody tr th {\n        vertical-align: top;\n    }\n\n    .dataframe thead th {\n        text-align: right;\n    }\n</style>\n<table border=\"1\" class=\"dataframe\">\n  <thead>\n    <tr style=\"text-align: right;\">\n      <th></th>\n      <th>CustLocation</th>\n      <th>CustAccountBalance_group</th>\n      <th>AccountFrequency</th>\n    </tr>\n  </thead>\n  <tbody>\n    <tr>\n      <th>0</th>\n      <td>(154) BHASKOLA FARIDABAD</td>\n      <td>Active</td>\n      <td>8</td>\n    </tr>\n    <tr>\n      <th>1</th>\n      <td>(BEFORE YMCA BLDG) CHENNAI</td>\n      <td>inactive</td>\n      <td>1</td>\n    </tr>\n    <tr>\n      <th>2</th>\n      <td>(BENAKA MDTS) BANGALORE</td>\n      <td>inactive</td>\n      <td>21</td>\n    </tr>\n    <tr>\n      <th>3</th>\n      <td>(BRINDA BAN ) KOLKATA</td>\n      <td>Mid-Active</td>\n      <td>4</td>\n    </tr>\n    <tr>\n      <th>4</th>\n      <td>(DT) HOSUR</td>\n      <td>Mid-Active</td>\n      <td>8</td>\n    </tr>\n    <tr>\n      <th>...</th>\n      <td>...</td>\n      <td>...</td>\n      <td>...</td>\n    </tr>\n    <tr>\n      <th>13061</th>\n      <td>ZONE WHITEFIELD BANGALORE</td>\n      <td>Active</td>\n      <td>37</td>\n    </tr>\n    <tr>\n      <th>13062</th>\n      <td>ZOPADPATTI TEHSIL KURLA MUMBAI</td>\n      <td>Active</td>\n      <td>1</td>\n    </tr>\n    <tr>\n      <th>13063</th>\n      <td>ZUARINAGAR</td>\n      <td>Active</td>\n      <td>6</td>\n    </tr>\n    <tr>\n      <th>13064</th>\n      <td>ZUMARI TILAIYA</td>\n      <td>Super Active</td>\n      <td>8</td>\n    </tr>\n    <tr>\n      <th>13065</th>\n      <td>ZUNHEBOTO</td>\n      <td>Active</td>\n      <td>1</td>\n    </tr>\n  </tbody>\n</table>\n<p>13066 rows × 3 columns</p>\n</div>"
          },
          "metadata": {}
        }
      ],
      "execution_count": 70
    },
    {
      "id": "c5b4bc0d-0c89-47af-8539-b3831968c9f3",
      "cell_type": "code",
      "source": "p25 = df['TransactionTime'].quantile(0.25)\np50 = df['TransactionTime'].quantile(0.50)  # This is the median\np75 = df['TransactionTime'].quantile(0.75)\np100=df['TransactionTime'].max()",
      "metadata": {
        "trusted": true
      },
      "outputs": [],
      "execution_count": 71
    },
    {
      "id": "a5c31fa0-3e12-4e11-b814-c90bee0d3454",
      "cell_type": "code",
      "source": "p25",
      "metadata": {
        "trusted": true
      },
      "outputs": [
        {
          "execution_count": 72,
          "output_type": "execute_result",
          "data": {
            "text/plain": "np.float64(124134.0)"
          },
          "metadata": {}
        }
      ],
      "execution_count": 72
    },
    {
      "id": "f3b7a1f4-bb6f-4caa-83ba-f1b5b021c0b4",
      "cell_type": "code",
      "source": "p50",
      "metadata": {
        "trusted": true
      },
      "outputs": [
        {
          "execution_count": 73,
          "output_type": "execute_result",
          "data": {
            "text/plain": "np.float64(164404.0)"
          },
          "metadata": {}
        }
      ],
      "execution_count": 73
    },
    {
      "id": "e6acaeeb-fab8-4f6c-898b-00cf8ff48232",
      "cell_type": "code",
      "source": "p75",
      "metadata": {
        "trusted": true
      },
      "outputs": [
        {
          "execution_count": 74,
          "output_type": "execute_result",
          "data": {
            "text/plain": "np.float64(200050.0)"
          },
          "metadata": {}
        }
      ],
      "execution_count": 74
    },
    {
      "id": "d79c01df-c08c-47d0-ad02-9af3d4eb2bb1",
      "cell_type": "code",
      "source": "p100",
      "metadata": {
        "trusted": true
      },
      "outputs": [
        {
          "execution_count": 75,
          "output_type": "execute_result",
          "data": {
            "text/plain": "np.float64(235959.0)"
          },
          "metadata": {}
        }
      ],
      "execution_count": 75
    },
    {
      "id": "35f9d5db-aa9e-452f-a7d6-5dbed94be618",
      "cell_type": "code",
      "source": "def TransactionTime_group(TransactionTime):\n    if TransactionTime < 124134.0:\n        return 'Very Low'\n    elif 124134.0 <= TransactionTime <164404.0:\n        return 'Low'\n    elif 164404.0 <= TransactionTime <200050.0:\n        return 'high'\n    else:\n        return 'Super high'\n\ndf1['TransactionTime_group'] = df1['TransactionTime'].apply(TransactionTime_group)\n\ntransaction_frequency_by_time = df1.groupby('TransactionTime_group').size().reset_index(name='TransactionFrequency')\n\nprint(transaction_frequency_by_time)",
      "metadata": {
        "trusted": true
      },
      "outputs": [
        {
          "name": "stderr",
          "output_type": "stream",
          "text": "<ipython-input-76-419d8f7ea4eb>:12: SettingWithCopyWarning: \nA value is trying to be set on a copy of a slice from a DataFrame.\nTry using .loc[row_indexer,col_indexer] = value instead\n\nSee the caveats in the documentation: https://pandas.pydata.org/pandas-docs/stable/user_guide/indexing.html#returning-a-view-versus-a-copy\n  df1['TransactionTime_group'] = df1['TransactionTime'].apply(TransactionTime_group)\n"
        },
        {
          "name": "stdout",
          "output_type": "stream",
          "text": "  TransactionTime_group  TransactionFrequency\n0                   Low                217218\n1            Super high                217664\n2              Very Low                217247\n3                  high                217477\n"
        }
      ],
      "execution_count": 76
    },
    {
      "id": "f90455b5-1e20-473a-9264-8e27ed10272d",
      "cell_type": "code",
      "source": "trans_frequency_by_location = df1.groupby(['CustLocation', 'TransactionTime_group']).size().reset_index(name='AccountFrequency')",
      "metadata": {
        "trusted": true
      },
      "outputs": [],
      "execution_count": 77
    },
    {
      "id": "30878033-2d50-4025-9cf3-09268567abd8",
      "cell_type": "code",
      "source": "trans_frequency_by_location",
      "metadata": {
        "trusted": true
      },
      "outputs": [
        {
          "execution_count": 78,
          "output_type": "execute_result",
          "data": {
            "text/plain": "                     CustLocation TransactionTime_group  AccountFrequency\n0        (154) BHASKOLA FARIDABAD                   Low                 3\n1        (154) BHASKOLA FARIDABAD            Super high                 3\n2        (154) BHASKOLA FARIDABAD                  high                 2\n3      (BEFORE YMCA BLDG) CHENNAI                   Low                 1\n4         (BENAKA MDTS) BANGALORE                   Low                 4\n...                           ...                   ...               ...\n22270                  ZUARINAGAR                  high                 1\n22271              ZUMARI TILAIYA            Super high                 2\n22272              ZUMARI TILAIYA              Very Low                 1\n22273              ZUMARI TILAIYA                  high                 5\n22274                   ZUNHEBOTO                  high                 1\n\n[22275 rows x 3 columns]",
            "text/html": "<div>\n<style scoped>\n    .dataframe tbody tr th:only-of-type {\n        vertical-align: middle;\n    }\n\n    .dataframe tbody tr th {\n        vertical-align: top;\n    }\n\n    .dataframe thead th {\n        text-align: right;\n    }\n</style>\n<table border=\"1\" class=\"dataframe\">\n  <thead>\n    <tr style=\"text-align: right;\">\n      <th></th>\n      <th>CustLocation</th>\n      <th>TransactionTime_group</th>\n      <th>AccountFrequency</th>\n    </tr>\n  </thead>\n  <tbody>\n    <tr>\n      <th>0</th>\n      <td>(154) BHASKOLA FARIDABAD</td>\n      <td>Low</td>\n      <td>3</td>\n    </tr>\n    <tr>\n      <th>1</th>\n      <td>(154) BHASKOLA FARIDABAD</td>\n      <td>Super high</td>\n      <td>3</td>\n    </tr>\n    <tr>\n      <th>2</th>\n      <td>(154) BHASKOLA FARIDABAD</td>\n      <td>high</td>\n      <td>2</td>\n    </tr>\n    <tr>\n      <th>3</th>\n      <td>(BEFORE YMCA BLDG) CHENNAI</td>\n      <td>Low</td>\n      <td>1</td>\n    </tr>\n    <tr>\n      <th>4</th>\n      <td>(BENAKA MDTS) BANGALORE</td>\n      <td>Low</td>\n      <td>4</td>\n    </tr>\n    <tr>\n      <th>...</th>\n      <td>...</td>\n      <td>...</td>\n      <td>...</td>\n    </tr>\n    <tr>\n      <th>22270</th>\n      <td>ZUARINAGAR</td>\n      <td>high</td>\n      <td>1</td>\n    </tr>\n    <tr>\n      <th>22271</th>\n      <td>ZUMARI TILAIYA</td>\n      <td>Super high</td>\n      <td>2</td>\n    </tr>\n    <tr>\n      <th>22272</th>\n      <td>ZUMARI TILAIYA</td>\n      <td>Very Low</td>\n      <td>1</td>\n    </tr>\n    <tr>\n      <th>22273</th>\n      <td>ZUMARI TILAIYA</td>\n      <td>high</td>\n      <td>5</td>\n    </tr>\n    <tr>\n      <th>22274</th>\n      <td>ZUNHEBOTO</td>\n      <td>high</td>\n      <td>1</td>\n    </tr>\n  </tbody>\n</table>\n<p>22275 rows × 3 columns</p>\n</div>"
          },
          "metadata": {}
        }
      ],
      "execution_count": 78
    },
    {
      "id": "c8fb13d2-4e52-4a4a-b21f-7c1fc00254a5",
      "cell_type": "code",
      "source": "trans_frequency_by_location = trans_frequency_by_location.sort_values(by='AccountFrequency', ascending=False)\n",
      "metadata": {
        "trusted": true
      },
      "outputs": [],
      "execution_count": 82
    },
    {
      "id": "bb5c57a0-dcbe-45f7-b73a-1ceb152eff10",
      "cell_type": "code",
      "source": "trans_frequency_by_location",
      "metadata": {
        "trusted": true
      },
      "outputs": [
        {
          "execution_count": 83,
          "output_type": "execute_result",
          "data": {
            "text/plain": "               CustLocation TransactionTime_group  AccountFrequency\n12530                MUMBAI            Super high             24701\n12529                MUMBAI                   Low             21137\n12531                MUMBAI              Very Low             19919\n12532                MUMBAI                  high             19861\n13773             NEW DELHI              Very Low             18324\n...                     ...                   ...               ...\n14915             PAPUMPARE                  high                 1\n14916  PAPUMPARE NAHARLAGUN                  high                 1\n14917          PARA KOLKATA                   Low                 1\n14919              PARADEEP              Very Low                 1\n22274             ZUNHEBOTO                  high                 1\n\n[22275 rows x 3 columns]",
            "text/html": "<div>\n<style scoped>\n    .dataframe tbody tr th:only-of-type {\n        vertical-align: middle;\n    }\n\n    .dataframe tbody tr th {\n        vertical-align: top;\n    }\n\n    .dataframe thead th {\n        text-align: right;\n    }\n</style>\n<table border=\"1\" class=\"dataframe\">\n  <thead>\n    <tr style=\"text-align: right;\">\n      <th></th>\n      <th>CustLocation</th>\n      <th>TransactionTime_group</th>\n      <th>AccountFrequency</th>\n    </tr>\n  </thead>\n  <tbody>\n    <tr>\n      <th>12530</th>\n      <td>MUMBAI</td>\n      <td>Super high</td>\n      <td>24701</td>\n    </tr>\n    <tr>\n      <th>12529</th>\n      <td>MUMBAI</td>\n      <td>Low</td>\n      <td>21137</td>\n    </tr>\n    <tr>\n      <th>12531</th>\n      <td>MUMBAI</td>\n      <td>Very Low</td>\n      <td>19919</td>\n    </tr>\n    <tr>\n      <th>12532</th>\n      <td>MUMBAI</td>\n      <td>high</td>\n      <td>19861</td>\n    </tr>\n    <tr>\n      <th>13773</th>\n      <td>NEW DELHI</td>\n      <td>Very Low</td>\n      <td>18324</td>\n    </tr>\n    <tr>\n      <th>...</th>\n      <td>...</td>\n      <td>...</td>\n      <td>...</td>\n    </tr>\n    <tr>\n      <th>14915</th>\n      <td>PAPUMPARE</td>\n      <td>high</td>\n      <td>1</td>\n    </tr>\n    <tr>\n      <th>14916</th>\n      <td>PAPUMPARE NAHARLAGUN</td>\n      <td>high</td>\n      <td>1</td>\n    </tr>\n    <tr>\n      <th>14917</th>\n      <td>PARA KOLKATA</td>\n      <td>Low</td>\n      <td>1</td>\n    </tr>\n    <tr>\n      <th>14919</th>\n      <td>PARADEEP</td>\n      <td>Very Low</td>\n      <td>1</td>\n    </tr>\n    <tr>\n      <th>22274</th>\n      <td>ZUNHEBOTO</td>\n      <td>high</td>\n      <td>1</td>\n    </tr>\n  </tbody>\n</table>\n<p>22275 rows × 3 columns</p>\n</div>"
          },
          "metadata": {}
        }
      ],
      "execution_count": 83
    },
    {
      "id": "d2545e84-e9e6-49bc-a6a3-af7ab92d53ca",
      "cell_type": "code",
      "source": "df1",
      "metadata": {
        "trusted": true
      },
      "outputs": [
        {
          "execution_count": 84,
          "output_type": "execute_result",
          "data": {
            "text/plain": "       TransactionID CustomerID CustomerDOB CustGender  CustLocation  \\\n0                 T1   C5841053  1994-01-10          F    JAMSHEDPUR   \n1                 T2   C2142763  1957-04-04          M       JHAJJAR   \n2                 T3   C4417068  1996-11-26          F        MUMBAI   \n3                 T4   C5342380  1973-09-14          F        MUMBAI   \n4                 T5   C9031234  1988-03-24          F   NAVI MUMBAI   \n...              ...        ...         ...        ...           ...   \n875569       T875570   C3711315  1984-03-01          M     BANGALORE   \n875570       T875571   C2131177  1997-09-03          M        ROHTAK   \n875571       T875572   C1019311  1991-02-26          M  SECUNDERABAD   \n875572       T875573   C4413592  1992-07-13          M   NAVI MUMBAI   \n875573       T875574   C4813976  1983-07-10          M       GURGAON   \n\n        CustAccountBalance TransactionDate  TransactionTime  \\\n0                 17819.05      02-08-2016         143207.0   \n1                  2270.69      02-08-2016         141858.0   \n2                 17874.44      02-08-2016         142712.0   \n3                866503.21      02-08-2016         142714.0   \n4                  6714.43      02-08-2016         181156.0   \n...                    ...             ...              ...   \n875569             2049.25      07-09-2016         223528.0   \n875570               19.27      07-09-2016         222956.0   \n875571            24060.39      07-09-2016         223023.0   \n875572            16638.79      07-09-2016         223026.0   \n875573            51521.26      07-09-2016         223027.0   \n\n        TransactionAmount (INR)  Age             AgeGroup  \\\n0                          25.0   31     Mid-Aged (25-40)   \n1                       27999.0   67         Senior (60+)   \n2                         459.0   28     Mid-Aged (25-40)   \n3                        2060.0   51  Older Adult (40-60)   \n4                        1762.5   36     Mid-Aged (25-40)   \n...                         ...  ...                  ...   \n875569                    400.0   40  Older Adult (40-60)   \n875570                     74.0   27     Mid-Aged (25-40)   \n875571                    688.0   33     Mid-Aged (25-40)   \n875572                   2520.0   32     Mid-Aged (25-40)   \n875573                    683.0   41  Older Adult (40-60)   \n\n       CustAccountBalance_group TransactionTime_group  \n0                        Active                   Low  \n1                      inactive                   Low  \n2                        Active                   Low  \n3                  Super Active                   Low  \n4                    Mid-Active                  high  \n...                         ...                   ...  \n875569                 inactive            Super high  \n875570                 inactive            Super high  \n875571                   Active            Super high  \n875572               Mid-Active            Super high  \n875573                   Active            Super high  \n\n[869606 rows x 13 columns]",
            "text/html": "<div>\n<style scoped>\n    .dataframe tbody tr th:only-of-type {\n        vertical-align: middle;\n    }\n\n    .dataframe tbody tr th {\n        vertical-align: top;\n    }\n\n    .dataframe thead th {\n        text-align: right;\n    }\n</style>\n<table border=\"1\" class=\"dataframe\">\n  <thead>\n    <tr style=\"text-align: right;\">\n      <th></th>\n      <th>TransactionID</th>\n      <th>CustomerID</th>\n      <th>CustomerDOB</th>\n      <th>CustGender</th>\n      <th>CustLocation</th>\n      <th>CustAccountBalance</th>\n      <th>TransactionDate</th>\n      <th>TransactionTime</th>\n      <th>TransactionAmount (INR)</th>\n      <th>Age</th>\n      <th>AgeGroup</th>\n      <th>CustAccountBalance_group</th>\n      <th>TransactionTime_group</th>\n    </tr>\n  </thead>\n  <tbody>\n    <tr>\n      <th>0</th>\n      <td>T1</td>\n      <td>C5841053</td>\n      <td>1994-01-10</td>\n      <td>F</td>\n      <td>JAMSHEDPUR</td>\n      <td>17819.05</td>\n      <td>02-08-2016</td>\n      <td>143207.0</td>\n      <td>25.0</td>\n      <td>31</td>\n      <td>Mid-Aged (25-40)</td>\n      <td>Active</td>\n      <td>Low</td>\n    </tr>\n    <tr>\n      <th>1</th>\n      <td>T2</td>\n      <td>C2142763</td>\n      <td>1957-04-04</td>\n      <td>M</td>\n      <td>JHAJJAR</td>\n      <td>2270.69</td>\n      <td>02-08-2016</td>\n      <td>141858.0</td>\n      <td>27999.0</td>\n      <td>67</td>\n      <td>Senior (60+)</td>\n      <td>inactive</td>\n      <td>Low</td>\n    </tr>\n    <tr>\n      <th>2</th>\n      <td>T3</td>\n      <td>C4417068</td>\n      <td>1996-11-26</td>\n      <td>F</td>\n      <td>MUMBAI</td>\n      <td>17874.44</td>\n      <td>02-08-2016</td>\n      <td>142712.0</td>\n      <td>459.0</td>\n      <td>28</td>\n      <td>Mid-Aged (25-40)</td>\n      <td>Active</td>\n      <td>Low</td>\n    </tr>\n    <tr>\n      <th>3</th>\n      <td>T4</td>\n      <td>C5342380</td>\n      <td>1973-09-14</td>\n      <td>F</td>\n      <td>MUMBAI</td>\n      <td>866503.21</td>\n      <td>02-08-2016</td>\n      <td>142714.0</td>\n      <td>2060.0</td>\n      <td>51</td>\n      <td>Older Adult (40-60)</td>\n      <td>Super Active</td>\n      <td>Low</td>\n    </tr>\n    <tr>\n      <th>4</th>\n      <td>T5</td>\n      <td>C9031234</td>\n      <td>1988-03-24</td>\n      <td>F</td>\n      <td>NAVI MUMBAI</td>\n      <td>6714.43</td>\n      <td>02-08-2016</td>\n      <td>181156.0</td>\n      <td>1762.5</td>\n      <td>36</td>\n      <td>Mid-Aged (25-40)</td>\n      <td>Mid-Active</td>\n      <td>high</td>\n    </tr>\n    <tr>\n      <th>...</th>\n      <td>...</td>\n      <td>...</td>\n      <td>...</td>\n      <td>...</td>\n      <td>...</td>\n      <td>...</td>\n      <td>...</td>\n      <td>...</td>\n      <td>...</td>\n      <td>...</td>\n      <td>...</td>\n      <td>...</td>\n      <td>...</td>\n    </tr>\n    <tr>\n      <th>875569</th>\n      <td>T875570</td>\n      <td>C3711315</td>\n      <td>1984-03-01</td>\n      <td>M</td>\n      <td>BANGALORE</td>\n      <td>2049.25</td>\n      <td>07-09-2016</td>\n      <td>223528.0</td>\n      <td>400.0</td>\n      <td>40</td>\n      <td>Older Adult (40-60)</td>\n      <td>inactive</td>\n      <td>Super high</td>\n    </tr>\n    <tr>\n      <th>875570</th>\n      <td>T875571</td>\n      <td>C2131177</td>\n      <td>1997-09-03</td>\n      <td>M</td>\n      <td>ROHTAK</td>\n      <td>19.27</td>\n      <td>07-09-2016</td>\n      <td>222956.0</td>\n      <td>74.0</td>\n      <td>27</td>\n      <td>Mid-Aged (25-40)</td>\n      <td>inactive</td>\n      <td>Super high</td>\n    </tr>\n    <tr>\n      <th>875571</th>\n      <td>T875572</td>\n      <td>C1019311</td>\n      <td>1991-02-26</td>\n      <td>M</td>\n      <td>SECUNDERABAD</td>\n      <td>24060.39</td>\n      <td>07-09-2016</td>\n      <td>223023.0</td>\n      <td>688.0</td>\n      <td>33</td>\n      <td>Mid-Aged (25-40)</td>\n      <td>Active</td>\n      <td>Super high</td>\n    </tr>\n    <tr>\n      <th>875572</th>\n      <td>T875573</td>\n      <td>C4413592</td>\n      <td>1992-07-13</td>\n      <td>M</td>\n      <td>NAVI MUMBAI</td>\n      <td>16638.79</td>\n      <td>07-09-2016</td>\n      <td>223026.0</td>\n      <td>2520.0</td>\n      <td>32</td>\n      <td>Mid-Aged (25-40)</td>\n      <td>Mid-Active</td>\n      <td>Super high</td>\n    </tr>\n    <tr>\n      <th>875573</th>\n      <td>T875574</td>\n      <td>C4813976</td>\n      <td>1983-07-10</td>\n      <td>M</td>\n      <td>GURGAON</td>\n      <td>51521.26</td>\n      <td>07-09-2016</td>\n      <td>223027.0</td>\n      <td>683.0</td>\n      <td>41</td>\n      <td>Older Adult (40-60)</td>\n      <td>Active</td>\n      <td>Super high</td>\n    </tr>\n  </tbody>\n</table>\n<p>869606 rows × 13 columns</p>\n</div>"
          },
          "metadata": {}
        }
      ],
      "execution_count": 84
    },
    {
      "id": "e2d4d057-19b5-402f-82b9-1a49b77dc5da",
      "cell_type": "code",
      "source": "import pandas as pd\nfrom sklearn.preprocessing import StandardScaler\n\n\ndf1_encoded = pd.get_dummies(df1[['Age', 'CustAccountBalance_group', 'TransactionTime_group', 'TransactionAmount (INR)']], drop_first=True)\n\nscaler = StandardScaler()\nscaled_data = scaler.fit_transform(df1_encoded)\nscaled_data = pd.DataFrame(scaled_data, columns=df1_encoded.columns)\n",
      "metadata": {
        "trusted": true
      },
      "outputs": [],
      "execution_count": 85
    },
    {
      "id": "c8c8a2c1-db5d-4ef3-b208-6bd2de6a82e2",
      "cell_type": "code",
      "source": "scaled_data",
      "metadata": {
        "trusted": true
      },
      "outputs": [
        {
          "execution_count": 86,
          "output_type": "execute_result",
          "data": {
            "text/plain": "             Age  TransactionAmount (INR)  \\\n0      -0.423751                -0.232751   \n1       0.413245                 3.958932   \n2      -0.493501                -0.167719   \n3       0.041246                 0.072178   \n4      -0.307502                 0.027600   \n...          ...                      ...   \n869601 -0.214502                -0.176560   \n869602 -0.516751                -0.225408   \n869603 -0.377252                -0.133405   \n869604 -0.400501                 0.141105   \n869605 -0.191252                -0.134155   \n\n        CustAccountBalance_group_Mid-Active  \\\n0                                 -0.578187   \n1                                 -0.578187   \n2                                 -0.578187   \n3                                 -0.578187   \n4                                  1.729545   \n...                                     ...   \n869601                            -0.578187   \n869602                            -0.578187   \n869603                            -0.578187   \n869604                             1.729545   \n869605                            -0.578187   \n\n        CustAccountBalance_group_Super Active  \\\n0                                   -0.576285   \n1                                   -0.576285   \n2                                   -0.576285   \n3                                    1.735252   \n4                                   -0.576285   \n...                                       ...   \n869601                              -0.576285   \n869602                              -0.576285   \n869603                              -0.576285   \n869604                              -0.576285   \n869605                              -0.576285   \n\n        CustAccountBalance_group_inactive  TransactionTime_group_Super high  \\\n0                               -0.577045                         -0.577815   \n1                                1.732968                         -0.577815   \n2                               -0.577045                         -0.577815   \n3                               -0.577045                         -0.577815   \n4                               -0.577045                         -0.577815   \n...                                   ...                               ...   \n869601                           1.732968                          1.730658   \n869602                           1.732968                          1.730658   \n869603                          -0.577045                          1.730658   \n869604                          -0.577045                          1.730658   \n869605                          -0.577045                          1.730658   \n\n        TransactionTime_group_Very Low  TransactionTime_group_high  \n0                            -0.577077                   -0.577484  \n1                            -0.577077                   -0.577484  \n2                            -0.577077                   -0.577484  \n3                            -0.577077                   -0.577484  \n4                            -0.577077                    1.731650  \n...                                ...                         ...  \n869601                       -0.577077                   -0.577484  \n869602                       -0.577077                   -0.577484  \n869603                       -0.577077                   -0.577484  \n869604                       -0.577077                   -0.577484  \n869605                       -0.577077                   -0.577484  \n\n[869606 rows x 8 columns]",
            "text/html": "<div>\n<style scoped>\n    .dataframe tbody tr th:only-of-type {\n        vertical-align: middle;\n    }\n\n    .dataframe tbody tr th {\n        vertical-align: top;\n    }\n\n    .dataframe thead th {\n        text-align: right;\n    }\n</style>\n<table border=\"1\" class=\"dataframe\">\n  <thead>\n    <tr style=\"text-align: right;\">\n      <th></th>\n      <th>Age</th>\n      <th>TransactionAmount (INR)</th>\n      <th>CustAccountBalance_group_Mid-Active</th>\n      <th>CustAccountBalance_group_Super Active</th>\n      <th>CustAccountBalance_group_inactive</th>\n      <th>TransactionTime_group_Super high</th>\n      <th>TransactionTime_group_Very Low</th>\n      <th>TransactionTime_group_high</th>\n    </tr>\n  </thead>\n  <tbody>\n    <tr>\n      <th>0</th>\n      <td>-0.423751</td>\n      <td>-0.232751</td>\n      <td>-0.578187</td>\n      <td>-0.576285</td>\n      <td>-0.577045</td>\n      <td>-0.577815</td>\n      <td>-0.577077</td>\n      <td>-0.577484</td>\n    </tr>\n    <tr>\n      <th>1</th>\n      <td>0.413245</td>\n      <td>3.958932</td>\n      <td>-0.578187</td>\n      <td>-0.576285</td>\n      <td>1.732968</td>\n      <td>-0.577815</td>\n      <td>-0.577077</td>\n      <td>-0.577484</td>\n    </tr>\n    <tr>\n      <th>2</th>\n      <td>-0.493501</td>\n      <td>-0.167719</td>\n      <td>-0.578187</td>\n      <td>-0.576285</td>\n      <td>-0.577045</td>\n      <td>-0.577815</td>\n      <td>-0.577077</td>\n      <td>-0.577484</td>\n    </tr>\n    <tr>\n      <th>3</th>\n      <td>0.041246</td>\n      <td>0.072178</td>\n      <td>-0.578187</td>\n      <td>1.735252</td>\n      <td>-0.577045</td>\n      <td>-0.577815</td>\n      <td>-0.577077</td>\n      <td>-0.577484</td>\n    </tr>\n    <tr>\n      <th>4</th>\n      <td>-0.307502</td>\n      <td>0.027600</td>\n      <td>1.729545</td>\n      <td>-0.576285</td>\n      <td>-0.577045</td>\n      <td>-0.577815</td>\n      <td>-0.577077</td>\n      <td>1.731650</td>\n    </tr>\n    <tr>\n      <th>...</th>\n      <td>...</td>\n      <td>...</td>\n      <td>...</td>\n      <td>...</td>\n      <td>...</td>\n      <td>...</td>\n      <td>...</td>\n      <td>...</td>\n    </tr>\n    <tr>\n      <th>869601</th>\n      <td>-0.214502</td>\n      <td>-0.176560</td>\n      <td>-0.578187</td>\n      <td>-0.576285</td>\n      <td>1.732968</td>\n      <td>1.730658</td>\n      <td>-0.577077</td>\n      <td>-0.577484</td>\n    </tr>\n    <tr>\n      <th>869602</th>\n      <td>-0.516751</td>\n      <td>-0.225408</td>\n      <td>-0.578187</td>\n      <td>-0.576285</td>\n      <td>1.732968</td>\n      <td>1.730658</td>\n      <td>-0.577077</td>\n      <td>-0.577484</td>\n    </tr>\n    <tr>\n      <th>869603</th>\n      <td>-0.377252</td>\n      <td>-0.133405</td>\n      <td>-0.578187</td>\n      <td>-0.576285</td>\n      <td>-0.577045</td>\n      <td>1.730658</td>\n      <td>-0.577077</td>\n      <td>-0.577484</td>\n    </tr>\n    <tr>\n      <th>869604</th>\n      <td>-0.400501</td>\n      <td>0.141105</td>\n      <td>1.729545</td>\n      <td>-0.576285</td>\n      <td>-0.577045</td>\n      <td>1.730658</td>\n      <td>-0.577077</td>\n      <td>-0.577484</td>\n    </tr>\n    <tr>\n      <th>869605</th>\n      <td>-0.191252</td>\n      <td>-0.134155</td>\n      <td>-0.578187</td>\n      <td>-0.576285</td>\n      <td>-0.577045</td>\n      <td>1.730658</td>\n      <td>-0.577077</td>\n      <td>-0.577484</td>\n    </tr>\n  </tbody>\n</table>\n<p>869606 rows × 8 columns</p>\n</div>"
          },
          "metadata": {}
        }
      ],
      "execution_count": 86
    },
    {
      "id": "96999a8d-832d-4c06-88d7-5e7e1457e75f",
      "cell_type": "code",
      "source": "from sklearn.cluster import KMeans\nn_clusters = 4\nkmeans = KMeans(n_clusters=n_clusters, random_state=42)\ndf1['CustomerSegment'] = kmeans.fit_predict(scaled_data)",
      "metadata": {
        "trusted": true
      },
      "outputs": [
        {
          "name": "stderr",
          "output_type": "stream",
          "text": "<ipython-input-89-a536874ad9e1>:4: SettingWithCopyWarning: \nA value is trying to be set on a copy of a slice from a DataFrame.\nTry using .loc[row_indexer,col_indexer] = value instead\n\nSee the caveats in the documentation: https://pandas.pydata.org/pandas-docs/stable/user_guide/indexing.html#returning-a-view-versus-a-copy\n  df1['CustomerSegment'] = kmeans.fit_predict(scaled_data)\n"
        }
      ],
      "execution_count": 89
    },
    {
      "id": "a0a1402e-6fb0-468c-a882-8cde5c6b0ff2",
      "cell_type": "code",
      "source": "df1['CustomerSegment']",
      "metadata": {
        "trusted": true
      },
      "outputs": [
        {
          "execution_count": 91,
          "output_type": "execute_result",
          "data": {
            "text/plain": "0         1\n1         1\n2         1\n3         3\n4         2\n         ..\n875569    1\n875570    1\n875571    2\n875572    2\n875573    2\nName: CustomerSegment, Length: 869606, dtype: int32"
          },
          "metadata": {}
        }
      ],
      "execution_count": 91
    },
    {
      "id": "f83f9c55-5dbf-4515-8af6-02f9bbe214e5",
      "cell_type": "code",
      "source": "\ncluster_labels = {\n    0: 'Inactive Customers',\n    1: 'less active Customers',\n    2: 'Mid-Value Customers',\n    3: 'Super Active Customers'\n}\n\ndf1['CustomerSegmentLabel'] = df1['CustomerSegment'].map(cluster_labels)\nprint(df1[['CustomerID', 'CustomerSegment', 'CustomerSegmentLabel']])\n",
      "metadata": {
        "trusted": true
      },
      "outputs": [
        {
          "name": "stderr",
          "output_type": "stream",
          "text": "<ipython-input-101-3bab2aa4f494>:10: SettingWithCopyWarning: \nA value is trying to be set on a copy of a slice from a DataFrame.\nTry using .loc[row_indexer,col_indexer] = value instead\n\nSee the caveats in the documentation: https://pandas.pydata.org/pandas-docs/stable/user_guide/indexing.html#returning-a-view-versus-a-copy\n  df1['CustomerSegmentLabel'] = df1['CustomerSegment'].map(cluster_labels)\n"
        },
        {
          "name": "stdout",
          "output_type": "stream",
          "text": "       CustomerID  CustomerSegment    CustomerSegmentLabel\n0        C5841053                1   less active Customers\n1        C2142763                1   less active Customers\n2        C4417068                1   less active Customers\n3        C5342380                3  Super Active Customers\n4        C9031234                2     Mid-Value Customers\n...           ...              ...                     ...\n875569   C3711315                1   less active Customers\n875570   C2131177                1   less active Customers\n875571   C1019311                2     Mid-Value Customers\n875572   C4413592                2     Mid-Value Customers\n875573   C4813976                2     Mid-Value Customers\n\n[869606 rows x 3 columns]\n"
        }
      ],
      "execution_count": 101
    },
    {
      "id": "63f8d23e-7630-4649-86ce-bb6e5bd59b20",
      "cell_type": "code",
      "source": "\ncluster_counts = df1['CustomerSegment'].value_counts().reset_index()\ncluster_counts.columns = ['CustomerSegment', 'CustomerCount']\nprint(cluster_counts)\n",
      "metadata": {
        "trusted": true
      },
      "outputs": [
        {
          "name": "stdout",
          "output_type": "stream",
          "text": "   CustomerSegment  CustomerCount\n0                1         356881\n1                3         253889\n2                2         211447\n3                0          47389\n"
        }
      ],
      "execution_count": 100
    },
    {
      "id": "bb4b4e9f-21cb-4f03-a353-f59bcabfa103",
      "cell_type": "code",
      "source": "",
      "metadata": {
        "trusted": true
      },
      "outputs": [],
      "execution_count": null
    }
  ]
}